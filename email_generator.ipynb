{
 "cells": [
  {
   "cell_type": "code",
   "execution_count": 2,
   "id": "373eb4ce-68a2-4e48-80ce-35d281098443",
   "metadata": {},
   "outputs": [
    {
     "name": "stdout",
     "output_type": "stream",
     "text": [
      "The first person to land on the moon was Neil Armstrong. He stepped onto the lunar surface on July 20, 1969, as part of the Apollo 11 mission.\n"
     ]
    }
   ],
   "source": [
    "from langchain_groq import ChatGroq\n",
    "\n",
    "llm = ChatGroq(\n",
    "    temperature=0, \n",
    "    groq_api_key='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', \n",
    "    model_name=\"llama-3.1-70b-versatile\"\n",
    ")\n",
    "\n",
    "response = llm.invoke(\"The first person to land on moon was ...\")\n",
    "print(response.content)"
   ]
  },
  {
   "cell_type": "code",
   "execution_count": 8,
   "id": "0ad9757e-6640-4028-af48-27d580d8195d",
   "metadata": {},
   "outputs": [
    {
     "name": "stdout",
     "output_type": "stream",
     "text": [
      "Postuler pour Business Data Analyst II, Athlete Businesses\n",
      "\n",
      "Rechercher des postesPasser la navigationRechercher des postesNIKE, INC. JOBSEmplois temporairesJoin The Talent CommunityNike au quotidienPrésentationAvantages sociauxMarquesPrésentationJordanConverseÉquipesPrésentationSoutien administratifInnovation de pointeAir Manufacturing et InnovationAéronautiqueCommunicationsService clientConceptionNumériqueInstallationsFinance et comptabilitéAffaires gouvernementales et publiquesRessources humainesDonnées et analyseService juridiqueFabrication et ingénierieMarketingMerchandisingPlanificationConfidentialitéAchatsCréation, développement et gestion de produitsService de gestion des magasinsMagasinsVentesImpact social et communautaireMarketing sportsPlanification stratégiqueChaîne d'approvisionnement, distribution et logistiqueDurabilitéTechnologieSitesPrésentationNike WHQSiège de Nike à New YorkEHQ : Hilversum, Pays-BasELC: Laakdal, BelgiumGreater China HQDiversité, égalité et inclusivitéPrésentationMilitaryHandicap et inclusionInclusion autochtonesStagesData & AnalyticsBusiness Data Analyst II, Athlete BusinessesBeaverton, OregonRejoignez l'équipe NIKE, Inc.\n",
      "Loin de se contenter d'équiper les plus grands athlètes mondiaux, NIKE, Inc. explore les potentiels, abolit les frontières et repousse les limites du possible. L'entreprise recherche des personnes capables d'évoluer, de réfléchir, de rêver et de créer. L'épanouissement de sa culture repose sur son ouverture à la diversité et sur sa façon d'encourager l'imagination. La marque a besoin de personnes talentueuses, de leaders et de visionnaires. Chez NIKE, Inc., chacun contribue, par ses compétences et sa passion, à jouer un match difficile en constante évolution.Become a Part of the NIKE, Inc. TeamNIKE, Inc. does more than outfit the world's best athletes. It is a place to explore potential, obliterate boundaries and push out the edges of what can be. The company looks for people who can grow, think, dream and create. Its culture thrives by embracing diversity and rewarding imagination. The brand seeks achievers, leaders and visionaries. At Nike, it’s about each person bringing skills and passion to a challenging and constantly evolving game.WHO ARE WE LOOKING FOR?We’re looking for a Business Data Analyst II, Athlete Businesses who will drive analytical work-streams that help identify, evaluate, and catalyze action against critical priorities for our Basketball and Athlete Teams! You will develop and communicate business insights that help influence key partners in a complex, cross-functional environment. You will play a critical role on the team that drives Nike’s long-term vision of serving elite athletes and creates long-term value for Nike and our partners. WHAT WILL YOU WORK ON?As a Business Analyst, you will be responsible for driving Nike’s long-term Basketball strategy forward by providing on-going research and analytical support. You will support the identification and evaluation of critical priorities and strategic problems ultimately leading to crucial action on these priorities. In addition, you will establish new processes and tools that creates value across the cross-functional Basketball teams as well as external partnerships across multiple industries.The focus across both serving elite athletes as well as everyday athletes/consumers is also unique to this role. WHO WILL YOU WORK WITH?This Business Data Analyst will be part of the larger Global Basketball team, that will consist of key stakeholders across Business, Marketing, Sports Marketing, Product and Planning. Additionally, this role will work across key data and analytics driven functions. This role will report directly to our Director, Global Athlete Business along with support from the Global Basketball Leadership Team. WHAT YOU WILL BRING?Bachelor’s degree2+ years of corporate development, business development, corporate strategy, investment banking, strategy consulting, finance, or related experienceAbility to complete quantitative and qualitative analysis and financial modelsExperience conducting and/or analyzing research related to consumers, industries, and competitorsComfort analyzing research related to consumers, industries, and competitorsProven ability to operate with a high degree of ambiguity and to work with a flexible scheduleLogical problem structuring and strategic problem-solving skillsSuperior interpersonal skills and proven track record to work cross-functionallyExcellent written, oral, and communication skillsAbility to work on cross-functional teams and provide project management supportProficiency in standard business software applications (e.g., Keynote, PowerPoint, Excel) We will ensure that individuals with disabilities are provided reasonable accommodation to participate in the job application or interview process, to perform essential job functions, and to receive other benefits and privileges of employment. Please contact us to request accommodation. NIKE, Inc. is a growth company that looks for team members to grow with it. Nike offers a generous total rewards package, casual work environment, a diverse and inclusive culture, and an electric atmosphere for professional development. No matter the location, or the role, every Nike employee shares one galvanizing mission: To bring inspiration and innovation to every athlete* in the world. NIKE, Inc. is committed to employing a diverse workforce. Qualified applicants will receive consideration without regard to race, color, religion, sex, national origin, age, sexual orientation, gender identity, gender expression, veteran status, or disability.NIKE, Inc. est une entreprise en pleine croissance cherchant à intégrer à son équipe des personnes capables de se développer avec elle. Nike offre un généreux programme de rémunération globale, un environnement de travail décontracté, une culture variée et inclusive et une atmosphère dynamique propice au développement professionnel. Quels que soient le site ou le poste, les employés de Nike partagent tous la même mission stimulante : apporter inspiration et innovation aux athlètes* du monde entier.NIKE, Inc. s'engage à embaucher un personnel diversifié. Les candidats qualifiés seront considérés sans tenir compte de leur origine, couleur de peau, religion, sexe, nationalité, âge, orientation sexuelle, identité de genre, expression de genre, statut de vétéran ou handicap.Notre stratégie de recrutementNIKE, Inc. met tout en œuvre pour proposer une expérience de candidature qualitative, inclusive, intéressante et authentique. Pour ce faire, nous vous aidons à venir avec les meilleurs atouts possibles, et donc à comprendre comment fonctionne notre processus d'embauche. La transparence est essentielle.\n",
      "\n",
      "* Cette présentation explique notre processus de recrutement pour les postes basés dans nos bureaux. Il est possible que les étapes de recrutement soient différentes pour les postes basés ailleurs que dans nos bureaux.Commencer maintenantAvantages sociauxDes transports aux avantages financiers, nous investissons en permanence dans le bien-être de nos employés pour les aider à exceller en tous points, au travail comme dans la sphère privée. Tous ceux qui travaillent chez Nike devraient pouvoir exploiter pleinement leur potentiel.Programme d'aide aux employésPlan d'actionnariat salariéJours fériésCouverture médicaleCongés payésRéductions sur les produitsCongés sabbatiquesEn savoir plusCARTES CADEAUXTROUVER UN MAGASINNIKE JOURNALDEVENIR MEMBRERÉDUCTION POUR ÉTUDIANTSCOMMENTAIRESCODES PROMOAIDEAIDEStatut de commandeExpédition et livraisonRetoursModes de paiementNous contacterAide - Codes promo NikeÀ PROPOS DE NIKEÀ PROPOS DE NIKEActualitésCarrièresInvestisseursDéveloppement durableAPPLICATIONS NIKEAPPLICATIONS NIKENike AppNike Run ClubNike Training ClubSNKRSFrance© 2024 Nike, Inc. Tous droits réservésGuidesNike AdaptNike FlyEaseNike FreeNike VaporflyÉquipement de fan NBANike AirNike FlyKnitNike PegasusNike Zoom FlyFactory StoreNike Air MaxNike FlyleatherNike ReactNike ZoomXKids AirtopiaConditions d'utilisationConditions générales de venteMentions légalesPolitique en matière de confidentialité et de cookiesParamètres des cookies\n"
     ]
    }
   ],
   "source": [
    "from langchain_community.document_loaders import WebBaseLoader\n",
    "\n",
    "loader = WebBaseLoader(\"https://jobs.nike.com/fr/job/R-34410?from=job%20search%20funnel\")\n",
    "page_data = loader.load().pop().page_content\n",
    "print(page_data)"
   ]
  },
  {
   "cell_type": "code",
   "execution_count": 21,
   "id": "ace20e49-73e3-4949-aea3-06dea204fbf1",
   "metadata": {},
   "outputs": [
    {
     "name": "stdout",
     "output_type": "stream",
     "text": [
      "{\n",
      "  \"role\": \"Business Data Analyst II, Athlete Businesses\",\n",
      "  \"experience\": \"2+ years of corporate development, business development, corporate strategy, investment banking, strategy consulting, finance, or related experience\",\n",
      "  \"skills\": [\n",
      "    \"Ability to complete quantitative and qualitative analysis and financial models\",\n",
      "    \"Experience conducting and/or analyzing research related to consumers, industries, and competitors\",\n",
      "    \"Comfort analyzing research related to consumers, industries, and competitors\",\n",
      "    \"Proven ability to operate with a high degree of ambiguity and to work with a flexible schedule\",\n",
      "    \"Logical problem structuring and strategic problem-solving skills\",\n",
      "    \"Superior interpersonal skills and proven track record to work cross-functionally\",\n",
      "    \"Excellent written, oral, and communication skills\",\n",
      "    \"Ability to work on cross-functional teams and provide project management support\",\n",
      "    \"Proficiency in standard business software applications (e.g., Keynote, PowerPoint, Excel)\"\n",
      "  ],\n",
      "  \"description\": \"We’re looking for a Business Data Analyst II, Athlete Businesses who will drive analytical work-streams that help identify, evaluate, and catalyze action against critical priorities for our Basketball and Athlete Teams! You will develop and communicate business insights that help influence key partners in a complex, cross-functional environment. You will play a critical role on the team that drives Nike’s long-term vision of serving elite athletes and creates long-term value for Nike and our partners.\"\n",
      "}\n"
     ]
    }
   ],
   "source": [
    "from langchain_core.prompts import PromptTemplate\n",
    "\n",
    "prompt_extract = PromptTemplate.from_template(\n",
    "        \"\"\"\n",
    "        ### SCRAPED TEXT FROM WEBSITE:\n",
    "        {page_data}\n",
    "        ### INSTRUCTION:\n",
    "        The scraped text is from the career's page of a website.\n",
    "        Your job is to extract the job postings and return them in JSON format containing the \n",
    "        following keys: `role`, `experience`, `skills` and `description`.\n",
    "        Only return the valid JSON not list.\n",
    "        ### VALID JSON (NO PREAMBLE):    \n",
    "        \"\"\"\n",
    ")\n",
    "\n",
    "chain_extract = prompt_extract | llm \n",
    "res = chain_extract.invoke(input={'page_data':page_data})\n",
    "print(res.content)"
   ]
  },
  {
   "cell_type": "code",
   "execution_count": 22,
   "id": "c2794444-3888-4072-a458-a024952f00b8",
   "metadata": {},
   "outputs": [
    {
     "data": {
      "text/plain": [
       "{'role': 'Business Data Analyst II, Athlete Businesses',\n",
       " 'experience': '2+ years of corporate development, business development, corporate strategy, investment banking, strategy consulting, finance, or related experience',\n",
       " 'skills': ['Ability to complete quantitative and qualitative analysis and financial models',\n",
       "  'Experience conducting and/or analyzing research related to consumers, industries, and competitors',\n",
       "  'Comfort analyzing research related to consumers, industries, and competitors',\n",
       "  'Proven ability to operate with a high degree of ambiguity and to work with a flexible schedule',\n",
       "  'Logical problem structuring and strategic problem-solving skills',\n",
       "  'Superior interpersonal skills and proven track record to work cross-functionally',\n",
       "  'Excellent written, oral, and communication skills',\n",
       "  'Ability to work on cross-functional teams and provide project management support',\n",
       "  'Proficiency in standard business software applications (e.g., Keynote, PowerPoint, Excel)'],\n",
       " 'description': 'We’re looking for a Business Data Analyst II, Athlete Businesses who will drive analytical work-streams that help identify, evaluate, and catalyze action against critical priorities for our Basketball and Athlete Teams! You will develop and communicate business insights that help influence key partners in a complex, cross-functional environment. You will play a critical role on the team that drives Nike’s long-term vision of serving elite athletes and creates long-term value for Nike and our partners.'}"
      ]
     },
     "execution_count": 22,
     "metadata": {},
     "output_type": "execute_result"
    }
   ],
   "source": [
    "from langchain_core.output_parsers import JsonOutputParser\n",
    "\n",
    "json_parser = JsonOutputParser()\n",
    "json_res = json_parser.parse(res.content)\n",
    "json_res"
   ]
  },
  {
   "cell_type": "code",
   "execution_count": 23,
   "id": "10c35a57-2ede-4ab6-8782-7dc7c0053d76",
   "metadata": {},
   "outputs": [
    {
     "data": {
      "text/plain": [
       "dict"
      ]
     },
     "execution_count": 23,
     "metadata": {},
     "output_type": "execute_result"
    }
   ],
   "source": [
    "type(json_res)"
   ]
  },
  {
   "cell_type": "code",
   "execution_count": 13,
   "id": "3cbb7182-4c20-4b83-8581-c939a98bc47a",
   "metadata": {},
   "outputs": [
    {
     "data": {
      "text/html": [
       "<div>\n",
       "<style scoped>\n",
       "    .dataframe tbody tr th:only-of-type {\n",
       "        vertical-align: middle;\n",
       "    }\n",
       "\n",
       "    .dataframe tbody tr th {\n",
       "        vertical-align: top;\n",
       "    }\n",
       "\n",
       "    .dataframe thead th {\n",
       "        text-align: right;\n",
       "    }\n",
       "</style>\n",
       "<table border=\"1\" class=\"dataframe\">\n",
       "  <thead>\n",
       "    <tr style=\"text-align: right;\">\n",
       "      <th></th>\n",
       "      <th>Techstack</th>\n",
       "      <th>Links</th>\n",
       "    </tr>\n",
       "  </thead>\n",
       "  <tbody>\n",
       "    <tr>\n",
       "      <th>0</th>\n",
       "      <td>React, Node.js, MongoDB</td>\n",
       "      <td>https://example.com/react-portfolio</td>\n",
       "    </tr>\n",
       "    <tr>\n",
       "      <th>1</th>\n",
       "      <td>Angular,.NET, SQL Server</td>\n",
       "      <td>https://example.com/angular-portfolio</td>\n",
       "    </tr>\n",
       "    <tr>\n",
       "      <th>2</th>\n",
       "      <td>Vue.js, Ruby on Rails, PostgreSQL</td>\n",
       "      <td>https://example.com/vue-portfolio</td>\n",
       "    </tr>\n",
       "    <tr>\n",
       "      <th>3</th>\n",
       "      <td>Python, Django, MySQL</td>\n",
       "      <td>https://example.com/python-portfolio</td>\n",
       "    </tr>\n",
       "    <tr>\n",
       "      <th>4</th>\n",
       "      <td>Java, Spring Boot, Oracle</td>\n",
       "      <td>https://example.com/java-portfolio</td>\n",
       "    </tr>\n",
       "    <tr>\n",
       "      <th>5</th>\n",
       "      <td>Flutter, Firebase, GraphQL</td>\n",
       "      <td>https://example.com/flutter-portfolio</td>\n",
       "    </tr>\n",
       "    <tr>\n",
       "      <th>6</th>\n",
       "      <td>WordPress, PHP, MySQL</td>\n",
       "      <td>https://example.com/wordpress-portfolio</td>\n",
       "    </tr>\n",
       "    <tr>\n",
       "      <th>7</th>\n",
       "      <td>Magento, PHP, MySQL</td>\n",
       "      <td>https://example.com/magento-portfolio</td>\n",
       "    </tr>\n",
       "    <tr>\n",
       "      <th>8</th>\n",
       "      <td>React Native, Node.js, MongoDB</td>\n",
       "      <td>https://example.com/react-native-portfolio</td>\n",
       "    </tr>\n",
       "    <tr>\n",
       "      <th>9</th>\n",
       "      <td>iOS, Swift, Core Data</td>\n",
       "      <td>https://example.com/ios-portfolio</td>\n",
       "    </tr>\n",
       "    <tr>\n",
       "      <th>10</th>\n",
       "      <td>Android, Java, Room Persistence</td>\n",
       "      <td>https://example.com/android-portfolio</td>\n",
       "    </tr>\n",
       "    <tr>\n",
       "      <th>11</th>\n",
       "      <td>Kotlin, Android, Firebase</td>\n",
       "      <td>https://example.com/kotlin-android-portfolio</td>\n",
       "    </tr>\n",
       "    <tr>\n",
       "      <th>12</th>\n",
       "      <td>Android TV, Kotlin, Android NDK</td>\n",
       "      <td>https://example.com/android-tv-portfolio</td>\n",
       "    </tr>\n",
       "    <tr>\n",
       "      <th>13</th>\n",
       "      <td>iOS, Swift, ARKit</td>\n",
       "      <td>https://example.com/ios-ar-portfolio</td>\n",
       "    </tr>\n",
       "    <tr>\n",
       "      <th>14</th>\n",
       "      <td>Cross-platform, Xamarin, Azure</td>\n",
       "      <td>https://example.com/xamarin-portfolio</td>\n",
       "    </tr>\n",
       "    <tr>\n",
       "      <th>15</th>\n",
       "      <td>Backend, Kotlin, Spring Boot</td>\n",
       "      <td>https://example.com/kotlin-backend-portfolio</td>\n",
       "    </tr>\n",
       "    <tr>\n",
       "      <th>16</th>\n",
       "      <td>Frontend, TypeScript, Angular</td>\n",
       "      <td>https://example.com/typescript-frontend-portfolio</td>\n",
       "    </tr>\n",
       "    <tr>\n",
       "      <th>17</th>\n",
       "      <td>Full-stack, JavaScript, Express.js</td>\n",
       "      <td>https://example.com/full-stack-js-portfolio</td>\n",
       "    </tr>\n",
       "    <tr>\n",
       "      <th>18</th>\n",
       "      <td>Machine Learning, Python, TensorFlow</td>\n",
       "      <td>https://example.com/ml-python-portfolio</td>\n",
       "    </tr>\n",
       "    <tr>\n",
       "      <th>19</th>\n",
       "      <td>DevOps, Jenkins, Docker</td>\n",
       "      <td>https://example.com/devops-portfolio</td>\n",
       "    </tr>\n",
       "  </tbody>\n",
       "</table>\n",
       "</div>"
      ],
      "text/plain": [
       "                               Techstack  \\\n",
       "0                React, Node.js, MongoDB   \n",
       "1               Angular,.NET, SQL Server   \n",
       "2      Vue.js, Ruby on Rails, PostgreSQL   \n",
       "3                  Python, Django, MySQL   \n",
       "4              Java, Spring Boot, Oracle   \n",
       "5             Flutter, Firebase, GraphQL   \n",
       "6                  WordPress, PHP, MySQL   \n",
       "7                    Magento, PHP, MySQL   \n",
       "8         React Native, Node.js, MongoDB   \n",
       "9                  iOS, Swift, Core Data   \n",
       "10       Android, Java, Room Persistence   \n",
       "11             Kotlin, Android, Firebase   \n",
       "12       Android TV, Kotlin, Android NDK   \n",
       "13                     iOS, Swift, ARKit   \n",
       "14        Cross-platform, Xamarin, Azure   \n",
       "15          Backend, Kotlin, Spring Boot   \n",
       "16         Frontend, TypeScript, Angular   \n",
       "17    Full-stack, JavaScript, Express.js   \n",
       "18  Machine Learning, Python, TensorFlow   \n",
       "19               DevOps, Jenkins, Docker   \n",
       "\n",
       "                                                Links  \n",
       "0                 https://example.com/react-portfolio  \n",
       "1               https://example.com/angular-portfolio  \n",
       "2                   https://example.com/vue-portfolio  \n",
       "3                https://example.com/python-portfolio  \n",
       "4                  https://example.com/java-portfolio  \n",
       "5               https://example.com/flutter-portfolio  \n",
       "6             https://example.com/wordpress-portfolio  \n",
       "7               https://example.com/magento-portfolio  \n",
       "8          https://example.com/react-native-portfolio  \n",
       "9                   https://example.com/ios-portfolio  \n",
       "10              https://example.com/android-portfolio  \n",
       "11       https://example.com/kotlin-android-portfolio  \n",
       "12           https://example.com/android-tv-portfolio  \n",
       "13               https://example.com/ios-ar-portfolio  \n",
       "14              https://example.com/xamarin-portfolio  \n",
       "15       https://example.com/kotlin-backend-portfolio  \n",
       "16  https://example.com/typescript-frontend-portfolio  \n",
       "17        https://example.com/full-stack-js-portfolio  \n",
       "18            https://example.com/ml-python-portfolio  \n",
       "19               https://example.com/devops-portfolio  "
      ]
     },
     "execution_count": 13,
     "metadata": {},
     "output_type": "execute_result"
    }
   ],
   "source": [
    "import pandas as pd\n",
    "\n",
    "df = pd.read_csv(\"my_portfolio.csv\")\n",
    "df"
   ]
  },
  {
   "cell_type": "code",
   "execution_count": 14,
   "id": "8f032a2e-270a-4a18-a823-8ac416065d7d",
   "metadata": {},
   "outputs": [],
   "source": [
    "import uuid\n",
    "import chromadb\n",
    "\n",
    "client = chromadb.PersistentClient('vectorstore')\n",
    "collection = client.get_or_create_collection(name=\"portfolio\")\n",
    "\n",
    "if not collection.count():\n",
    "    for _, row in df.iterrows():\n",
    "        collection.add(documents=row[\"Techstack\"],\n",
    "                       metadatas={\"links\": row[\"Links\"]},\n",
    "                       ids=[str(uuid.uuid4())])"
   ]
  },
  {
   "cell_type": "code",
   "execution_count": 18,
   "id": "50642b72-e870-42ab-845c-65774e35990a",
   "metadata": {},
   "outputs": [
    {
     "data": {
      "text/plain": [
       "[[{'links': 'https://example.com/ml-python-portfolio'},\n",
       "  {'links': 'https://example.com/python-portfolio'}],\n",
       " [{'links': 'https://example.com/react-portfolio'},\n",
       "  {'links': 'https://example.com/react-native-portfolio'}]]"
      ]
     },
     "execution_count": 18,
     "metadata": {},
     "output_type": "execute_result"
    }
   ],
   "source": [
    "links = collection.query(query_texts=[\"experience in python\", \"expertise in React\"], n_results=2).get('metadatas', [])\n",
    "links"
   ]
  },
  {
   "cell_type": "code",
   "execution_count": 24,
   "id": "cfc149fb-c076-4928-8288-fe1f60d19622",
   "metadata": {},
   "outputs": [
    {
     "data": {
      "text/plain": [
       "['Ability to complete quantitative and qualitative analysis and financial models',\n",
       " 'Experience conducting and/or analyzing research related to consumers, industries, and competitors',\n",
       " 'Comfort analyzing research related to consumers, industries, and competitors',\n",
       " 'Proven ability to operate with a high degree of ambiguity and to work with a flexible schedule',\n",
       " 'Logical problem structuring and strategic problem-solving skills',\n",
       " 'Superior interpersonal skills and proven track record to work cross-functionally',\n",
       " 'Excellent written, oral, and communication skills',\n",
       " 'Ability to work on cross-functional teams and provide project management support',\n",
       " 'Proficiency in standard business software applications (e.g., Keynote, PowerPoint, Excel)']"
      ]
     },
     "execution_count": 24,
     "metadata": {},
     "output_type": "execute_result"
    }
   ],
   "source": [
    "job=json_res\n",
    "job['skills']"
   ]
  },
  {
   "cell_type": "code",
   "execution_count": 25,
   "id": "179c16d2-b9be-4ef0-8756-196233d61626",
   "metadata": {},
   "outputs": [
    {
     "data": {
      "text/plain": [
       "[[{'links': 'https://example.com/python-portfolio'},\n",
       "  {'links': 'https://example.com/ml-python-portfolio'}],\n",
       " [{'links': 'https://example.com/python-portfolio'},\n",
       "  {'links': 'https://example.com/vue-portfolio'}],\n",
       " [{'links': 'https://example.com/android-portfolio'},\n",
       "  {'links': 'https://example.com/ios-portfolio'}],\n",
       " [{'links': 'https://example.com/devops-portfolio'},\n",
       "  {'links': 'https://example.com/ml-python-portfolio'}],\n",
       " [{'links': 'https://example.com/ml-python-portfolio'},\n",
       "  {'links': 'https://example.com/magento-portfolio'}],\n",
       " [{'links': 'https://example.com/flutter-portfolio'},\n",
       "  {'links': 'https://example.com/android-portfolio'}],\n",
       " [{'links': 'https://example.com/ml-python-portfolio'},\n",
       "  {'links': 'https://example.com/python-portfolio'}],\n",
       " [{'links': 'https://example.com/xamarin-portfolio'},\n",
       "  {'links': 'https://example.com/devops-portfolio'}],\n",
       " [{'links': 'https://example.com/ml-python-portfolio'},\n",
       "  {'links': 'https://example.com/xamarin-portfolio'}]]"
      ]
     },
     "execution_count": 25,
     "metadata": {},
     "output_type": "execute_result"
    }
   ],
   "source": [
    "links = collection.query(query_texts=job['skills'], n_results=2).get('metadatas', [])\n",
    "links"
   ]
  },
  {
   "cell_type": "code",
   "execution_count": 26,
   "id": "bc6c2f58-17cb-4f9c-ade4-a6e3ea3b68dc",
   "metadata": {
    "collapsed": true,
    "jupyter": {
     "outputs_hidden": true
    }
   },
   "outputs": [
    {
     "name": "stdout",
     "output_type": "stream",
     "text": [
      "Subject: Unlock Data-Driven Insights for Athlete Businesses with AtliQ\n",
      "\n",
      "Dear Hiring Manager,\n",
      "\n",
      "I came across the Business Data Analyst II, Athlete Businesses role at Nike and was impressed by the company's commitment to driving analytical work-streams that identify, evaluate, and catalyze action against critical priorities. As a Business Development Executive at AtliQ, I believe our expertise in AI and software consulting can help Nike unlock data-driven insights to inform key business decisions.\n",
      "\n",
      "At AtliQ, we have a proven track record of empowering enterprises with tailored solutions that foster scalability, process optimization, cost reduction, and heightened overall efficiency. Our team of experts has extensive experience in developing and implementing data analytics solutions that drive business growth.\n",
      "\n",
      "In particular, our expertise in machine learning and Python development can help Nike build robust data models and analytics tools that provide actionable insights. Our portfolio includes projects such as:\n",
      "\n",
      "* Developing predictive models using machine learning algorithms to forecast sales and revenue growth (https://example.com/ml-python-portfolio)\n",
      "* Building data visualization dashboards using Python to provide real-time insights into business performance (https://example.com/python-portfolio)\n",
      "* Implementing data warehousing solutions to integrate data from multiple sources and provide a single source of truth (https://example.com/devops-portfolio)\n",
      "\n",
      "Our team is well-equipped to handle complex data analytics projects and has a proven track record of delivering high-quality solutions on time. We would be delighted to discuss how our expertise can help Nike achieve its goals in the Athlete Businesses division.\n",
      "\n",
      "If you're interested in learning more about how AtliQ can help Nike unlock data-driven insights, I'd be happy to schedule a call to discuss further.\n",
      "\n",
      "Best regards,\n",
      "\n",
      "Mohan\n",
      "Business Development Executive\n",
      "AtliQ\n",
      "[mohan@atliq.com](mailto:mohan@atliq.com)\n"
     ]
    }
   ],
   "source": [
    "prompt_email = PromptTemplate.from_template(\n",
    "        \"\"\"\n",
    "        ### JOB DESCRIPTION:\n",
    "        {job_description}\n",
    "        \n",
    "        ### INSTRUCTION:\n",
    "        You are Mohan, a business development executive at AtliQ. AtliQ is an AI & Software Consulting company dedicated to facilitating\n",
    "        the seamless integration of business processes through automated tools. \n",
    "        Over our experience, we have empowered numerous enterprises with tailored solutions, fostering scalability, \n",
    "        process optimization, cost reduction, and heightened overall efficiency. \n",
    "        Your job is to write a cold email to the client regarding the job mentioned above describing the capability of AtliQ \n",
    "        in fulfilling their needs.\n",
    "        Also add the most relevant ones from the following links to showcase Atliq's portfolio: {link_list}\n",
    "        Remember you are Mohan, BDE at AtliQ. \n",
    "        Do not provide a preamble.\n",
    "        ### EMAIL (NO PREAMBLE):\n",
    "        \n",
    "        \"\"\"\n",
    "        )\n",
    "\n",
    "chain_email = prompt_email | llm\n",
    "res = chain_email.invoke({\"job_description\": str(job), \"link_list\": links})\n",
    "print(res.content)"
   ]
  },
  {
   "cell_type": "code",
   "execution_count": null,
   "id": "339fd085-bef5-4e25-a9d0-48ce1af71da2",
   "metadata": {},
   "outputs": [],
   "source": []
  }
 ],
 "metadata": {
  "kernelspec": {
   "display_name": "Python 3 (ipykernel)",
   "language": "python",
   "name": "python3"
  },
  "language_info": {
   "codemirror_mode": {
    "name": "ipython",
    "version": 3
   },
   "file_extension": ".py",
   "mimetype": "text/x-python",
   "name": "python",
   "nbconvert_exporter": "python",
   "pygments_lexer": "ipython3",
   "version": "3.10.11"
  }
 },
 "nbformat": 4,
 "nbformat_minor": 5
}
